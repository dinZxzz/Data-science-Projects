{
 "cells": [
  {
   "cell_type": "code",
   "execution_count": 8,
   "metadata": {
    "executionInfo": {
     "elapsed": 694,
     "status": "ok",
     "timestamp": 1688962865009,
     "user": {
      "displayName": "Dinesh Kumar",
      "userId": "03955091386139700861"
     },
     "user_tz": -330
    },
    "id": "jlUPpjxtJZa2"
   },
   "outputs": [],
   "source": [
    "import pandas as pd"
   ]
  },
  {
   "cell_type": "markdown",
   "metadata": {
    "id": "8JKf2rceLWtu"
   },
   "source": [
    "#DATA CLEANING"
   ]
  },
  {
   "cell_type": "code",
   "execution_count": 9,
   "metadata": {
    "executionInfo": {
     "elapsed": 1244,
     "status": "ok",
     "timestamp": 1688962970883,
     "user": {
      "displayName": "Dinesh Kumar",
      "userId": "03955091386139700861"
     },
     "user_tz": -330
    },
    "id": "nCbjtOA7KpXg"
   },
   "outputs": [],
   "source": [
    "df_fixture = pd.read_csv('fifa_womens_worldcup_fixture.csv')\n",
    "df_historical_data = pd.read_csv('fifa_womens_worldcup_historical_data.csv')\n"
   ]
  },
  {
   "cell_type": "code",
   "execution_count": 38,
   "metadata": {
    "executionInfo": {
     "elapsed": 4,
     "status": "ok",
     "timestamp": 1688960378696,
     "user": {
      "displayName": "Dinesh Kumar",
      "userId": "03955091386139700861"
     },
     "user_tz": -330
    },
    "id": "UvFHBA0yLasV"
   },
   "outputs": [],
   "source": [
    "#1. Cleaning df_fixture"
   ]
  },
  {
   "cell_type": "code",
   "execution_count": 10,
   "metadata": {
    "executionInfo": {
     "elapsed": 608,
     "status": "ok",
     "timestamp": 1688962975169,
     "user": {
      "displayName": "Dinesh Kumar",
      "userId": "03955091386139700861"
     },
     "user_tz": -330
    },
    "id": "f1Yn-BguLhXX"
   },
   "outputs": [],
   "source": [
    "df_fixture['home']=df_fixture['home'].str.strip()\n",
    "df_fixture['away']= df_fixture['away'].str.strip()"
   ]
  },
  {
   "cell_type": "code",
   "execution_count": 11,
   "metadata": {
    "colab": {
     "base_uri": "https://localhost:8080/",
     "height": 423
    },
    "executionInfo": {
     "elapsed": 10,
     "status": "ok",
     "timestamp": 1688962977739,
     "user": {
      "displayName": "Dinesh Kumar",
      "userId": "03955091386139700861"
     },
     "user_tz": -330
    },
    "id": "K_lElPdwL98-",
    "outputId": "643faa70-016f-4721-97cc-6ae645850fa1"
   },
   "outputs": [
    {
     "data": {
      "text/html": [
       "<div>\n",
       "<style scoped>\n",
       "    .dataframe tbody tr th:only-of-type {\n",
       "        vertical-align: middle;\n",
       "    }\n",
       "\n",
       "    .dataframe tbody tr th {\n",
       "        vertical-align: top;\n",
       "    }\n",
       "\n",
       "    .dataframe thead th {\n",
       "        text-align: right;\n",
       "    }\n",
       "</style>\n",
       "<table border=\"1\" class=\"dataframe\">\n",
       "  <thead>\n",
       "    <tr style=\"text-align: right;\">\n",
       "      <th></th>\n",
       "      <th>home</th>\n",
       "      <th>score</th>\n",
       "      <th>away</th>\n",
       "      <th>year</th>\n",
       "    </tr>\n",
       "  </thead>\n",
       "  <tbody>\n",
       "    <tr>\n",
       "      <th>0</th>\n",
       "      <td>New Zealand</td>\n",
       "      <td>Match 1</td>\n",
       "      <td>Norway</td>\n",
       "      <td>2023</td>\n",
       "    </tr>\n",
       "    <tr>\n",
       "      <th>1</th>\n",
       "      <td>Philippines</td>\n",
       "      <td>Match 3</td>\n",
       "      <td>Switzerland</td>\n",
       "      <td>2023</td>\n",
       "    </tr>\n",
       "    <tr>\n",
       "      <th>2</th>\n",
       "      <td>New Zealand</td>\n",
       "      <td>Match 17</td>\n",
       "      <td>Philippines</td>\n",
       "      <td>2023</td>\n",
       "    </tr>\n",
       "    <tr>\n",
       "      <th>3</th>\n",
       "      <td>Switzerland</td>\n",
       "      <td>Match 18</td>\n",
       "      <td>Norway</td>\n",
       "      <td>2023</td>\n",
       "    </tr>\n",
       "    <tr>\n",
       "      <th>4</th>\n",
       "      <td>Switzerland</td>\n",
       "      <td>Match 33</td>\n",
       "      <td>New Zealand</td>\n",
       "      <td>2023</td>\n",
       "    </tr>\n",
       "    <tr>\n",
       "      <th>...</th>\n",
       "      <td>...</td>\n",
       "      <td>...</td>\n",
       "      <td>...</td>\n",
       "      <td>...</td>\n",
       "    </tr>\n",
       "    <tr>\n",
       "      <th>59</th>\n",
       "      <td>Winner Match 54</td>\n",
       "      <td>Match 60</td>\n",
       "      <td>Winner Match 56</td>\n",
       "      <td>2023</td>\n",
       "    </tr>\n",
       "    <tr>\n",
       "      <th>60</th>\n",
       "      <td>Winner Match 57</td>\n",
       "      <td>Match 61</td>\n",
       "      <td>Winner Match 58</td>\n",
       "      <td>2023</td>\n",
       "    </tr>\n",
       "    <tr>\n",
       "      <th>61</th>\n",
       "      <td>Winner Match 59</td>\n",
       "      <td>Match 62</td>\n",
       "      <td>Winner Match 60</td>\n",
       "      <td>2023</td>\n",
       "    </tr>\n",
       "    <tr>\n",
       "      <th>62</th>\n",
       "      <td>Loser Match 61</td>\n",
       "      <td>Match 63</td>\n",
       "      <td>Loser Match 62</td>\n",
       "      <td>2023</td>\n",
       "    </tr>\n",
       "    <tr>\n",
       "      <th>63</th>\n",
       "      <td>Winner Match 61</td>\n",
       "      <td>Match 64</td>\n",
       "      <td>Winner Match 62</td>\n",
       "      <td>2023</td>\n",
       "    </tr>\n",
       "  </tbody>\n",
       "</table>\n",
       "<p>64 rows × 4 columns</p>\n",
       "</div>"
      ],
      "text/plain": [
       "               home     score             away  year\n",
       "0       New Zealand   Match 1           Norway  2023\n",
       "1       Philippines   Match 3      Switzerland  2023\n",
       "2       New Zealand  Match 17      Philippines  2023\n",
       "3       Switzerland  Match 18           Norway  2023\n",
       "4       Switzerland  Match 33      New Zealand  2023\n",
       "..              ...       ...              ...   ...\n",
       "59  Winner Match 54  Match 60  Winner Match 56  2023\n",
       "60  Winner Match 57  Match 61  Winner Match 58  2023\n",
       "61  Winner Match 59  Match 62  Winner Match 60  2023\n",
       "62   Loser Match 61  Match 63   Loser Match 62  2023\n",
       "63  Winner Match 61  Match 64  Winner Match 62  2023\n",
       "\n",
       "[64 rows x 4 columns]"
      ]
     },
     "execution_count": 11,
     "metadata": {},
     "output_type": "execute_result"
    }
   ],
   "source": [
    "df_fixture"
   ]
  },
  {
   "cell_type": "code",
   "execution_count": 71,
   "metadata": {
    "executionInfo": {
     "elapsed": 928,
     "status": "ok",
     "timestamp": 1688918824794,
     "user": {
      "displayName": "Dinesh Kumar",
      "userId": "03955091386139700861"
     },
     "user_tz": -330
    },
    "id": "rViP4eUrN2jt"
   },
   "outputs": [],
   "source": [
    "#2. cleaning historical_data"
   ]
  },
  {
   "cell_type": "code",
   "execution_count": 12,
   "metadata": {
    "colab": {
     "base_uri": "https://localhost:8080/",
     "height": 423
    },
    "executionInfo": {
     "elapsed": 419,
     "status": "ok",
     "timestamp": 1688962982245,
     "user": {
      "displayName": "Dinesh Kumar",
      "userId": "03955091386139700861"
     },
     "user_tz": -330
    },
    "id": "x9jd8RghN773",
    "outputId": "73c3e5dc-1949-45a2-e15c-8c05c9b46cb2"
   },
   "outputs": [
    {
     "data": {
      "text/html": [
       "<div>\n",
       "<style scoped>\n",
       "    .dataframe tbody tr th:only-of-type {\n",
       "        vertical-align: middle;\n",
       "    }\n",
       "\n",
       "    .dataframe tbody tr th {\n",
       "        vertical-align: top;\n",
       "    }\n",
       "\n",
       "    .dataframe thead th {\n",
       "        text-align: right;\n",
       "    }\n",
       "</style>\n",
       "<table border=\"1\" class=\"dataframe\">\n",
       "  <thead>\n",
       "    <tr style=\"text-align: right;\">\n",
       "      <th></th>\n",
       "      <th>home</th>\n",
       "      <th>score</th>\n",
       "      <th>away</th>\n",
       "      <th>year</th>\n",
       "    </tr>\n",
       "  </thead>\n",
       "  <tbody>\n",
       "    <tr>\n",
       "      <th>0</th>\n",
       "      <td>China</td>\n",
       "      <td>4–0</td>\n",
       "      <td>Norway</td>\n",
       "      <td>1991</td>\n",
       "    </tr>\n",
       "    <tr>\n",
       "      <th>1</th>\n",
       "      <td>Denmark</td>\n",
       "      <td>3–0</td>\n",
       "      <td>New Zealand</td>\n",
       "      <td>1991</td>\n",
       "    </tr>\n",
       "    <tr>\n",
       "      <th>2</th>\n",
       "      <td>Norway</td>\n",
       "      <td>4–0</td>\n",
       "      <td>New Zealand</td>\n",
       "      <td>1991</td>\n",
       "    </tr>\n",
       "    <tr>\n",
       "      <th>3</th>\n",
       "      <td>China</td>\n",
       "      <td>2–2</td>\n",
       "      <td>Denmark</td>\n",
       "      <td>1991</td>\n",
       "    </tr>\n",
       "    <tr>\n",
       "      <th>4</th>\n",
       "      <td>China</td>\n",
       "      <td>4–1</td>\n",
       "      <td>New Zealand</td>\n",
       "      <td>1991</td>\n",
       "    </tr>\n",
       "    <tr>\n",
       "      <th>...</th>\n",
       "      <td>...</td>\n",
       "      <td>...</td>\n",
       "      <td>...</td>\n",
       "      <td>...</td>\n",
       "    </tr>\n",
       "    <tr>\n",
       "      <th>279</th>\n",
       "      <td>Germany</td>\n",
       "      <td>1–2</td>\n",
       "      <td>Sweden</td>\n",
       "      <td>2019</td>\n",
       "    </tr>\n",
       "    <tr>\n",
       "      <th>280</th>\n",
       "      <td>England</td>\n",
       "      <td>1–2</td>\n",
       "      <td>United States</td>\n",
       "      <td>2019</td>\n",
       "    </tr>\n",
       "    <tr>\n",
       "      <th>281</th>\n",
       "      <td>Netherlands</td>\n",
       "      <td>1–0 (a.e.t.)</td>\n",
       "      <td>Sweden</td>\n",
       "      <td>2019</td>\n",
       "    </tr>\n",
       "    <tr>\n",
       "      <th>282</th>\n",
       "      <td>England</td>\n",
       "      <td>1–2</td>\n",
       "      <td>Sweden</td>\n",
       "      <td>2019</td>\n",
       "    </tr>\n",
       "    <tr>\n",
       "      <th>283</th>\n",
       "      <td>United States</td>\n",
       "      <td>2–0</td>\n",
       "      <td>Netherlands</td>\n",
       "      <td>2019</td>\n",
       "    </tr>\n",
       "  </tbody>\n",
       "</table>\n",
       "<p>284 rows × 4 columns</p>\n",
       "</div>"
      ],
      "text/plain": [
       "               home         score            away  year\n",
       "0            China            4–0          Norway  1991\n",
       "1          Denmark            3–0     New Zealand  1991\n",
       "2           Norway            4–0     New Zealand  1991\n",
       "3            China            2–2         Denmark  1991\n",
       "4            China            4–1     New Zealand  1991\n",
       "..              ...           ...             ...   ...\n",
       "279        Germany            1–2          Sweden  2019\n",
       "280        England            1–2   United States  2019\n",
       "281    Netherlands   1–0 (a.e.t.)          Sweden  2019\n",
       "282        England            1–2          Sweden  2019\n",
       "283  United States            2–0     Netherlands  2019\n",
       "\n",
       "[284 rows x 4 columns]"
      ]
     },
     "execution_count": 12,
     "metadata": {},
     "output_type": "execute_result"
    }
   ],
   "source": [
    "df_historical_data"
   ]
  },
  {
   "cell_type": "code",
   "execution_count": 13,
   "metadata": {
    "executionInfo": {
     "elapsed": 448,
     "status": "ok",
     "timestamp": 1688962985829,
     "user": {
      "displayName": "Dinesh Kumar",
      "userId": "03955091386139700861"
     },
     "user_tz": -330
    },
    "id": "I79hdth313aM"
   },
   "outputs": [],
   "source": [
    "df_historical_data['score']=df_historical_data['score'].str.replace('[^\\d–]','',regex = True)"
   ]
  },
  {
   "cell_type": "code",
   "execution_count": 14,
   "metadata": {
    "executionInfo": {
     "elapsed": 9,
     "status": "ok",
     "timestamp": 1688962987770,
     "user": {
      "displayName": "Dinesh Kumar",
      "userId": "03955091386139700861"
     },
     "user_tz": -330
    },
    "id": "n1jyia0JTUR-"
   },
   "outputs": [],
   "source": [
    "df_historical_data['home']=df_historical_data['home'].str.strip()\n",
    "df_historical_data['away']= df_historical_data['away'].str.strip()"
   ]
  },
  {
   "cell_type": "code",
   "execution_count": 15,
   "metadata": {
    "colab": {
     "base_uri": "https://localhost:8080/",
     "height": 423
    },
    "executionInfo": {
     "elapsed": 392,
     "status": "ok",
     "timestamp": 1688962992257,
     "user": {
      "displayName": "Dinesh Kumar",
      "userId": "03955091386139700861"
     },
     "user_tz": -330
    },
    "id": "D6TJfoc_Z1eJ",
    "outputId": "1f0ac0d3-3775-45bc-bb0c-3851d51e1a6c"
   },
   "outputs": [
    {
     "data": {
      "text/html": [
       "<div>\n",
       "<style scoped>\n",
       "    .dataframe tbody tr th:only-of-type {\n",
       "        vertical-align: middle;\n",
       "    }\n",
       "\n",
       "    .dataframe tbody tr th {\n",
       "        vertical-align: top;\n",
       "    }\n",
       "\n",
       "    .dataframe thead th {\n",
       "        text-align: right;\n",
       "    }\n",
       "</style>\n",
       "<table border=\"1\" class=\"dataframe\">\n",
       "  <thead>\n",
       "    <tr style=\"text-align: right;\">\n",
       "      <th></th>\n",
       "      <th>home</th>\n",
       "      <th>score</th>\n",
       "      <th>away</th>\n",
       "      <th>year</th>\n",
       "    </tr>\n",
       "  </thead>\n",
       "  <tbody>\n",
       "    <tr>\n",
       "      <th>0</th>\n",
       "      <td>China</td>\n",
       "      <td>4–0</td>\n",
       "      <td>Norway</td>\n",
       "      <td>1991</td>\n",
       "    </tr>\n",
       "    <tr>\n",
       "      <th>1</th>\n",
       "      <td>Denmark</td>\n",
       "      <td>3–0</td>\n",
       "      <td>New Zealand</td>\n",
       "      <td>1991</td>\n",
       "    </tr>\n",
       "    <tr>\n",
       "      <th>2</th>\n",
       "      <td>Norway</td>\n",
       "      <td>4–0</td>\n",
       "      <td>New Zealand</td>\n",
       "      <td>1991</td>\n",
       "    </tr>\n",
       "    <tr>\n",
       "      <th>3</th>\n",
       "      <td>China</td>\n",
       "      <td>2–2</td>\n",
       "      <td>Denmark</td>\n",
       "      <td>1991</td>\n",
       "    </tr>\n",
       "    <tr>\n",
       "      <th>4</th>\n",
       "      <td>China</td>\n",
       "      <td>4–1</td>\n",
       "      <td>New Zealand</td>\n",
       "      <td>1991</td>\n",
       "    </tr>\n",
       "    <tr>\n",
       "      <th>...</th>\n",
       "      <td>...</td>\n",
       "      <td>...</td>\n",
       "      <td>...</td>\n",
       "      <td>...</td>\n",
       "    </tr>\n",
       "    <tr>\n",
       "      <th>279</th>\n",
       "      <td>Germany</td>\n",
       "      <td>1–2</td>\n",
       "      <td>Sweden</td>\n",
       "      <td>2019</td>\n",
       "    </tr>\n",
       "    <tr>\n",
       "      <th>280</th>\n",
       "      <td>England</td>\n",
       "      <td>1–2</td>\n",
       "      <td>United States</td>\n",
       "      <td>2019</td>\n",
       "    </tr>\n",
       "    <tr>\n",
       "      <th>281</th>\n",
       "      <td>Netherlands</td>\n",
       "      <td>1–0</td>\n",
       "      <td>Sweden</td>\n",
       "      <td>2019</td>\n",
       "    </tr>\n",
       "    <tr>\n",
       "      <th>282</th>\n",
       "      <td>England</td>\n",
       "      <td>1–2</td>\n",
       "      <td>Sweden</td>\n",
       "      <td>2019</td>\n",
       "    </tr>\n",
       "    <tr>\n",
       "      <th>283</th>\n",
       "      <td>United States</td>\n",
       "      <td>2–0</td>\n",
       "      <td>Netherlands</td>\n",
       "      <td>2019</td>\n",
       "    </tr>\n",
       "  </tbody>\n",
       "</table>\n",
       "<p>284 rows × 4 columns</p>\n",
       "</div>"
      ],
      "text/plain": [
       "              home score           away  year\n",
       "0            China   4–0         Norway  1991\n",
       "1          Denmark   3–0    New Zealand  1991\n",
       "2           Norway   4–0    New Zealand  1991\n",
       "3            China   2–2        Denmark  1991\n",
       "4            China   4–1    New Zealand  1991\n",
       "..             ...   ...            ...   ...\n",
       "279        Germany   1–2         Sweden  2019\n",
       "280        England   1–2  United States  2019\n",
       "281    Netherlands   1–0         Sweden  2019\n",
       "282        England   1–2         Sweden  2019\n",
       "283  United States   2–0    Netherlands  2019\n",
       "\n",
       "[284 rows x 4 columns]"
      ]
     },
     "execution_count": 15,
     "metadata": {},
     "output_type": "execute_result"
    }
   ],
   "source": [
    "df_historical_data"
   ]
  },
  {
   "cell_type": "code",
   "execution_count": 16,
   "metadata": {
    "executionInfo": {
     "elapsed": 401,
     "status": "ok",
     "timestamp": 1688962995854,
     "user": {
      "displayName": "Dinesh Kumar",
      "userId": "03955091386139700861"
     },
     "user_tz": -330
    },
    "id": "R8CHNzHnP89b"
   },
   "outputs": [],
   "source": [
    " #spitting score into homegoals and awaygoals and deleting the score column\n",
    "df_historical_data[['HomeGoals','AwayGoals']]= df_historical_data['score'].str.split('–',expand=True)\n"
   ]
  },
  {
   "cell_type": "code",
   "execution_count": 17,
   "metadata": {
    "executionInfo": {
     "elapsed": 9,
     "status": "ok",
     "timestamp": 1688962997485,
     "user": {
      "displayName": "Dinesh Kumar",
      "userId": "03955091386139700861"
     },
     "user_tz": -330
    },
    "id": "e6VogEufU0uw"
   },
   "outputs": [],
   "source": [
    "df_historical_data.drop('score', axis=1 , inplace = True)"
   ]
  },
  {
   "cell_type": "code",
   "execution_count": 18,
   "metadata": {
    "colab": {
     "base_uri": "https://localhost:8080/",
     "height": 423
    },
    "executionInfo": {
     "elapsed": 716,
     "status": "ok",
     "timestamp": 1688963000564,
     "user": {
      "displayName": "Dinesh Kumar",
      "userId": "03955091386139700861"
     },
     "user_tz": -330
    },
    "id": "ecfHo-gY4Xq-",
    "outputId": "a054e511-9ab0-4598-9c9a-d19a33516195"
   },
   "outputs": [
    {
     "data": {
      "text/html": [
       "<div>\n",
       "<style scoped>\n",
       "    .dataframe tbody tr th:only-of-type {\n",
       "        vertical-align: middle;\n",
       "    }\n",
       "\n",
       "    .dataframe tbody tr th {\n",
       "        vertical-align: top;\n",
       "    }\n",
       "\n",
       "    .dataframe thead th {\n",
       "        text-align: right;\n",
       "    }\n",
       "</style>\n",
       "<table border=\"1\" class=\"dataframe\">\n",
       "  <thead>\n",
       "    <tr style=\"text-align: right;\">\n",
       "      <th></th>\n",
       "      <th>home</th>\n",
       "      <th>away</th>\n",
       "      <th>year</th>\n",
       "      <th>HomeGoals</th>\n",
       "      <th>AwayGoals</th>\n",
       "    </tr>\n",
       "  </thead>\n",
       "  <tbody>\n",
       "    <tr>\n",
       "      <th>0</th>\n",
       "      <td>China</td>\n",
       "      <td>Norway</td>\n",
       "      <td>1991</td>\n",
       "      <td>4</td>\n",
       "      <td>0</td>\n",
       "    </tr>\n",
       "    <tr>\n",
       "      <th>1</th>\n",
       "      <td>Denmark</td>\n",
       "      <td>New Zealand</td>\n",
       "      <td>1991</td>\n",
       "      <td>3</td>\n",
       "      <td>0</td>\n",
       "    </tr>\n",
       "    <tr>\n",
       "      <th>2</th>\n",
       "      <td>Norway</td>\n",
       "      <td>New Zealand</td>\n",
       "      <td>1991</td>\n",
       "      <td>4</td>\n",
       "      <td>0</td>\n",
       "    </tr>\n",
       "    <tr>\n",
       "      <th>3</th>\n",
       "      <td>China</td>\n",
       "      <td>Denmark</td>\n",
       "      <td>1991</td>\n",
       "      <td>2</td>\n",
       "      <td>2</td>\n",
       "    </tr>\n",
       "    <tr>\n",
       "      <th>4</th>\n",
       "      <td>China</td>\n",
       "      <td>New Zealand</td>\n",
       "      <td>1991</td>\n",
       "      <td>4</td>\n",
       "      <td>1</td>\n",
       "    </tr>\n",
       "    <tr>\n",
       "      <th>...</th>\n",
       "      <td>...</td>\n",
       "      <td>...</td>\n",
       "      <td>...</td>\n",
       "      <td>...</td>\n",
       "      <td>...</td>\n",
       "    </tr>\n",
       "    <tr>\n",
       "      <th>279</th>\n",
       "      <td>Germany</td>\n",
       "      <td>Sweden</td>\n",
       "      <td>2019</td>\n",
       "      <td>1</td>\n",
       "      <td>2</td>\n",
       "    </tr>\n",
       "    <tr>\n",
       "      <th>280</th>\n",
       "      <td>England</td>\n",
       "      <td>United States</td>\n",
       "      <td>2019</td>\n",
       "      <td>1</td>\n",
       "      <td>2</td>\n",
       "    </tr>\n",
       "    <tr>\n",
       "      <th>281</th>\n",
       "      <td>Netherlands</td>\n",
       "      <td>Sweden</td>\n",
       "      <td>2019</td>\n",
       "      <td>1</td>\n",
       "      <td>0</td>\n",
       "    </tr>\n",
       "    <tr>\n",
       "      <th>282</th>\n",
       "      <td>England</td>\n",
       "      <td>Sweden</td>\n",
       "      <td>2019</td>\n",
       "      <td>1</td>\n",
       "      <td>2</td>\n",
       "    </tr>\n",
       "    <tr>\n",
       "      <th>283</th>\n",
       "      <td>United States</td>\n",
       "      <td>Netherlands</td>\n",
       "      <td>2019</td>\n",
       "      <td>2</td>\n",
       "      <td>0</td>\n",
       "    </tr>\n",
       "  </tbody>\n",
       "</table>\n",
       "<p>284 rows × 5 columns</p>\n",
       "</div>"
      ],
      "text/plain": [
       "              home           away  year HomeGoals AwayGoals\n",
       "0            China         Norway  1991         4         0\n",
       "1          Denmark    New Zealand  1991         3         0\n",
       "2           Norway    New Zealand  1991         4         0\n",
       "3            China        Denmark  1991         2         2\n",
       "4            China    New Zealand  1991         4         1\n",
       "..             ...            ...   ...       ...       ...\n",
       "279        Germany         Sweden  2019         1         2\n",
       "280        England  United States  2019         1         2\n",
       "281    Netherlands         Sweden  2019         1         0\n",
       "282        England         Sweden  2019         1         2\n",
       "283  United States    Netherlands  2019         2         0\n",
       "\n",
       "[284 rows x 5 columns]"
      ]
     },
     "execution_count": 18,
     "metadata": {},
     "output_type": "execute_result"
    }
   ],
   "source": [
    "df_historical_data"
   ]
  },
  {
   "cell_type": "code",
   "execution_count": 20,
   "metadata": {
    "executionInfo": {
     "elapsed": 711,
     "status": "ok",
     "timestamp": 1688963003940,
     "user": {
      "displayName": "Dinesh Kumar",
      "userId": "03955091386139700861"
     },
     "user_tz": -330
    },
    "id": "MNhjfHrm4yqs"
   },
   "outputs": [],
   "source": [
    "#renaming the columns and changing datatypes\n",
    "df_historical_data.rename(columns={'home':'HomeTeam','away':'AwayTeam','year':'Year'},inplace=True)\n",
    "\n",
    "df_historical_data = df_historical_data.astype({'HomeGoals':int,'AwayGoals': int,'Year': int})"
   ]
  },
  {
   "cell_type": "code",
   "execution_count": 21,
   "metadata": {
    "colab": {
     "base_uri": "https://localhost:8080/"
    },
    "executionInfo": {
     "elapsed": 615,
     "status": "ok",
     "timestamp": 1688963007735,
     "user": {
      "displayName": "Dinesh Kumar",
      "userId": "03955091386139700861"
     },
     "user_tz": -330
    },
    "id": "9vt4YdLr5vkg",
    "outputId": "3b9bbc79-2350-4b3d-d185-7dfdc4e6f0e6"
   },
   "outputs": [
    {
     "data": {
      "text/plain": [
       "HomeTeam     object\n",
       "AwayTeam     object\n",
       "Year          int64\n",
       "HomeGoals     int64\n",
       "AwayGoals     int64\n",
       "dtype: object"
      ]
     },
     "execution_count": 21,
     "metadata": {},
     "output_type": "execute_result"
    }
   ],
   "source": [
    "df_historical_data.dtypes"
   ]
  },
  {
   "cell_type": "code",
   "execution_count": 22,
   "metadata": {
    "executionInfo": {
     "elapsed": 604,
     "status": "ok",
     "timestamp": 1688963009994,
     "user": {
      "displayName": "Dinesh Kumar",
      "userId": "03955091386139700861"
     },
     "user_tz": -330
    },
    "id": "XhJl9ijB6FE1"
   },
   "outputs": [],
   "source": [
    "df_historical_data['TotalGoals']= df_historical_data['HomeGoals']+ df_historical_data['AwayGoals']"
   ]
  },
  {
   "cell_type": "code",
   "execution_count": 23,
   "metadata": {
    "colab": {
     "base_uri": "https://localhost:8080/",
     "height": 423
    },
    "executionInfo": {
     "elapsed": 21,
     "status": "ok",
     "timestamp": 1688963011592,
     "user": {
      "displayName": "Dinesh Kumar",
      "userId": "03955091386139700861"
     },
     "user_tz": -330
    },
    "id": "-YGuGvHj7NZK",
    "outputId": "b8614e41-6526-47c6-fb8f-cc7515a5dade"
   },
   "outputs": [
    {
     "data": {
      "text/html": [
       "<div>\n",
       "<style scoped>\n",
       "    .dataframe tbody tr th:only-of-type {\n",
       "        vertical-align: middle;\n",
       "    }\n",
       "\n",
       "    .dataframe tbody tr th {\n",
       "        vertical-align: top;\n",
       "    }\n",
       "\n",
       "    .dataframe thead th {\n",
       "        text-align: right;\n",
       "    }\n",
       "</style>\n",
       "<table border=\"1\" class=\"dataframe\">\n",
       "  <thead>\n",
       "    <tr style=\"text-align: right;\">\n",
       "      <th></th>\n",
       "      <th>HomeTeam</th>\n",
       "      <th>AwayTeam</th>\n",
       "      <th>Year</th>\n",
       "      <th>HomeGoals</th>\n",
       "      <th>AwayGoals</th>\n",
       "      <th>TotalGoals</th>\n",
       "    </tr>\n",
       "  </thead>\n",
       "  <tbody>\n",
       "    <tr>\n",
       "      <th>0</th>\n",
       "      <td>China</td>\n",
       "      <td>Norway</td>\n",
       "      <td>1991</td>\n",
       "      <td>4</td>\n",
       "      <td>0</td>\n",
       "      <td>4</td>\n",
       "    </tr>\n",
       "    <tr>\n",
       "      <th>1</th>\n",
       "      <td>Denmark</td>\n",
       "      <td>New Zealand</td>\n",
       "      <td>1991</td>\n",
       "      <td>3</td>\n",
       "      <td>0</td>\n",
       "      <td>3</td>\n",
       "    </tr>\n",
       "    <tr>\n",
       "      <th>2</th>\n",
       "      <td>Norway</td>\n",
       "      <td>New Zealand</td>\n",
       "      <td>1991</td>\n",
       "      <td>4</td>\n",
       "      <td>0</td>\n",
       "      <td>4</td>\n",
       "    </tr>\n",
       "    <tr>\n",
       "      <th>3</th>\n",
       "      <td>China</td>\n",
       "      <td>Denmark</td>\n",
       "      <td>1991</td>\n",
       "      <td>2</td>\n",
       "      <td>2</td>\n",
       "      <td>4</td>\n",
       "    </tr>\n",
       "    <tr>\n",
       "      <th>4</th>\n",
       "      <td>China</td>\n",
       "      <td>New Zealand</td>\n",
       "      <td>1991</td>\n",
       "      <td>4</td>\n",
       "      <td>1</td>\n",
       "      <td>5</td>\n",
       "    </tr>\n",
       "    <tr>\n",
       "      <th>...</th>\n",
       "      <td>...</td>\n",
       "      <td>...</td>\n",
       "      <td>...</td>\n",
       "      <td>...</td>\n",
       "      <td>...</td>\n",
       "      <td>...</td>\n",
       "    </tr>\n",
       "    <tr>\n",
       "      <th>279</th>\n",
       "      <td>Germany</td>\n",
       "      <td>Sweden</td>\n",
       "      <td>2019</td>\n",
       "      <td>1</td>\n",
       "      <td>2</td>\n",
       "      <td>3</td>\n",
       "    </tr>\n",
       "    <tr>\n",
       "      <th>280</th>\n",
       "      <td>England</td>\n",
       "      <td>United States</td>\n",
       "      <td>2019</td>\n",
       "      <td>1</td>\n",
       "      <td>2</td>\n",
       "      <td>3</td>\n",
       "    </tr>\n",
       "    <tr>\n",
       "      <th>281</th>\n",
       "      <td>Netherlands</td>\n",
       "      <td>Sweden</td>\n",
       "      <td>2019</td>\n",
       "      <td>1</td>\n",
       "      <td>0</td>\n",
       "      <td>1</td>\n",
       "    </tr>\n",
       "    <tr>\n",
       "      <th>282</th>\n",
       "      <td>England</td>\n",
       "      <td>Sweden</td>\n",
       "      <td>2019</td>\n",
       "      <td>1</td>\n",
       "      <td>2</td>\n",
       "      <td>3</td>\n",
       "    </tr>\n",
       "    <tr>\n",
       "      <th>283</th>\n",
       "      <td>United States</td>\n",
       "      <td>Netherlands</td>\n",
       "      <td>2019</td>\n",
       "      <td>2</td>\n",
       "      <td>0</td>\n",
       "      <td>2</td>\n",
       "    </tr>\n",
       "  </tbody>\n",
       "</table>\n",
       "<p>284 rows × 6 columns</p>\n",
       "</div>"
      ],
      "text/plain": [
       "          HomeTeam       AwayTeam  Year  HomeGoals  AwayGoals  TotalGoals\n",
       "0            China         Norway  1991          4          0           4\n",
       "1          Denmark    New Zealand  1991          3          0           3\n",
       "2           Norway    New Zealand  1991          4          0           4\n",
       "3            China        Denmark  1991          2          2           4\n",
       "4            China    New Zealand  1991          4          1           5\n",
       "..             ...            ...   ...        ...        ...         ...\n",
       "279        Germany         Sweden  2019          1          2           3\n",
       "280        England  United States  2019          1          2           3\n",
       "281    Netherlands         Sweden  2019          1          0           1\n",
       "282        England         Sweden  2019          1          2           3\n",
       "283  United States    Netherlands  2019          2          0           2\n",
       "\n",
       "[284 rows x 6 columns]"
      ]
     },
     "execution_count": 23,
     "metadata": {},
     "output_type": "execute_result"
    }
   ],
   "source": [
    "df_historical_data"
   ]
  },
  {
   "cell_type": "markdown",
   "metadata": {
    "id": "hOMEvZay7YV_"
   },
   "source": [
    "#Exporting the cleaned data"
   ]
  },
  {
   "cell_type": "code",
   "execution_count": 28,
   "metadata": {
    "executionInfo": {
     "elapsed": 6,
     "status": "ok",
     "timestamp": 1688963473556,
     "user": {
      "displayName": "Dinesh Kumar",
      "userId": "03955091386139700861"
     },
     "user_tz": -330
    },
    "id": "q1xXDD_27exA"
   },
   "outputs": [],
   "source": [
    "df_fixture.to_csv('clean_fifa_womens_worldcup_fixture.csv', index = False)\n"
   ]
  },
  {
   "cell_type": "code",
   "execution_count": 27,
   "metadata": {},
   "outputs": [],
   "source": [
    "df_historical_data.to_csv('clean_fifa_womens_worldcup_historical_data.csv',index=False)"
   ]
  },
  {
   "cell_type": "code",
   "execution_count": 31,
   "metadata": {},
   "outputs": [
    {
     "name": "stdout",
     "output_type": "stream",
     "text": [
      "1991 26\n",
      "1995 26\n",
      "1999 32\n",
      "2003 32\n",
      "2007 32\n",
      "2011 32\n",
      "2015 52\n",
      "2019 52\n"
     ]
    }
   ],
   "source": [
    "#verifying number of matches per competition\n",
    "years =[1991,1995,1999,2003,2007,2011,2015,2019]\n",
    "for year in years:\n",
    "    print(year,len(df_historical_data[df_historical_data['Year']==year]))"
   ]
  },
  {
   "cell_type": "code",
   "execution_count": null,
   "metadata": {},
   "outputs": [],
   "source": []
  }
 ],
 "metadata": {
  "colab": {
   "authorship_tag": "ABX9TyMHukJNlmp71mBMLh7tYcug",
   "mount_file_id": "1y8eC3D1SUT51X8fC3y6xHhlUkfD8ZAuu",
   "provenance": []
  },
  "kernelspec": {
   "display_name": "Python 3 (ipykernel)",
   "language": "python",
   "name": "python3"
  },
  "language_info": {
   "codemirror_mode": {
    "name": "ipython",
    "version": 3
   },
   "file_extension": ".py",
   "mimetype": "text/x-python",
   "name": "python",
   "nbconvert_exporter": "python",
   "pygments_lexer": "ipython3",
   "version": "3.9.2"
  }
 },
 "nbformat": 4,
 "nbformat_minor": 4
}
